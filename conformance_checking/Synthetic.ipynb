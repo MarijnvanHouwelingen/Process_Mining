{
 "cells": [
  {
   "cell_type": "code",
   "execution_count": 1,
   "metadata": {},
   "outputs": [],
   "source": [
    "from conformance_checking.Synthetic import generate_synthetic_log, adjust_timestamps, introduce_synthetic_deviations_W, map_alignments_with_trace_ids, generate_trace_encoding, make_dataframe_for_decision_tree_with_throughput, DecisionTreeModelSynthetic\n"
   ]
  },
  {
   "cell_type": "code",
   "execution_count": 2,
   "metadata": {},
   "outputs": [],
   "source": [
    "from pm4py.objects.petri_net.importer import importer as pnml_importer"
   ]
  },
  {
   "cell_type": "code",
   "execution_count": 3,
   "metadata": {},
   "outputs": [],
   "source": [
    "petri_net, initial_marking, final_marking = pnml_importer.apply('/home/borna/ProcessMining/Assignments/Process_Mining/conformance_checking/data/BPI2017Denied_petriNet.pnml')"
   ]
  },
  {
   "cell_type": "code",
   "execution_count": 4,
   "metadata": {},
   "outputs": [],
   "source": [
    "# Example usage\n",
    "synth_log_df = generate_synthetic_log(petri_net, initial_marking, final_marking)"
   ]
  },
  {
   "cell_type": "code",
   "execution_count": 5,
   "metadata": {},
   "outputs": [],
   "source": [
    "# Example of how to use this function (replace 'synth_log_df' with your actual DataFrame variable name)\n",
    "# Updated timestamps\n",
    "synth_log_df_adjusted = adjust_timestamps(synth_log_df, trace_column='trace_id', timestamp_column='timestamp')\n"
   ]
  },
  {
   "cell_type": "code",
   "execution_count": 6,
   "metadata": {},
   "outputs": [],
   "source": [
    "# Example usage\n",
    "synthetic_log_deviat_test = introduce_synthetic_deviations_W(\n",
    "    log_df=synth_log_df_adjusted,\n",
    "    activities_to_skip=['W-Call-incomplete-files-suspend', 'A-Incomplete', 'W-Assess-potential-fraud-suspend'],\n",
    "    deviation_ratio=0.8,\n",
    "    time_reduction_range=(3600, 9600),\n",
    "    seed=12\n",
    ")"
   ]
  },
  {
   "cell_type": "code",
   "execution_count": 14,
   "metadata": {},
   "outputs": [],
   "source": [
    "petri_net, initial_marking, final_marking = pnml_importer.apply('/home/borna/ProcessMining/Assignments/Process_Mining/conformance_checking/data/BPI2017Denied_petriNet.pnml')"
   ]
  },
  {
   "cell_type": "code",
   "execution_count": 15,
   "metadata": {},
   "outputs": [
    {
     "ename": "NameError",
     "evalue": "name 'classification_report' is not defined",
     "output_type": "error",
     "traceback": [
      "\u001b[0;31m---------------------------------------------------------------------------\u001b[0m",
      "\u001b[0;31mNameError\u001b[0m                                 Traceback (most recent call last)",
      "Cell \u001b[0;32mIn[15], line 2\u001b[0m\n\u001b[1;32m      1\u001b[0m \u001b[38;5;66;03m# Assuming y_true are the true labels and y_pred are the predicted labels\u001b[39;00m\n\u001b[0;32m----> 2\u001b[0m report \u001b[38;5;241m=\u001b[39m \u001b[43mclassification_report\u001b[49m(y_true, y_pred)\n\u001b[1;32m      4\u001b[0m \u001b[38;5;66;03m# Print the full report\u001b[39;00m\n\u001b[1;32m      5\u001b[0m \u001b[38;5;28mprint\u001b[39m(report)\n",
      "\u001b[0;31mNameError\u001b[0m: name 'classification_report' is not defined"
     ]
    }
   ],
   "source": [
    "# Assuming y_true are the true labels and y_pred are the predicted labels\n",
    "report = classification_report(y_true, y_pred)\n",
    "\n",
    "# Print the full report\n",
    "print(report)"
   ]
  }
 ],
 "metadata": {
  "kernelspec": {
   "display_name": ".venv",
   "language": "python",
   "name": "python3"
  },
  "language_info": {
   "codemirror_mode": {
    "name": "ipython",
    "version": 3
   },
   "file_extension": ".py",
   "mimetype": "text/x-python",
   "name": "python",
   "nbconvert_exporter": "python",
   "pygments_lexer": "ipython3",
   "version": "3.11.5"
  }
 },
 "nbformat": 4,
 "nbformat_minor": 2
}
