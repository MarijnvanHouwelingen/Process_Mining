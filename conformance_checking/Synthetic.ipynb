{
 "cells": [
  {
   "cell_type": "code",
   "execution_count": 1,
   "metadata": {},
   "outputs": [],
   "source": [
    "from conformance_checking.Synthetic import generate_synthetic_log, adjust_timestamps, introduce_synthetic_deviations_W, map_alignments_with_trace_ids, generate_trace_encoding, make_dataframe_for_decision_tree_with_throughput, DecisionTreeModelSynthetic\n"
   ]
  },
  {
   "cell_type": "code",
   "execution_count": 2,
   "metadata": {},
   "outputs": [],
   "source": [
    "from pm4py.objects.petri_net.importer import importer as pnml_importer"
   ]
  },
  {
   "cell_type": "code",
   "execution_count": 3,
   "metadata": {},
   "outputs": [],
   "source": [
    "petri_net, initial_marking, final_marking = pnml_importer.apply('/home/borna/ProcessMining/Assignments/Process_Mining/conformance_checking/data/BPI2017Denied_petriNet.pnml')"
   ]
  },
  {
   "cell_type": "code",
   "execution_count": 4,
   "metadata": {},
   "outputs": [],
   "source": [
    "# Example usage\n",
    "synth_log_df = generate_synthetic_log(petri_net, initial_marking, final_marking)"
   ]
  },
  {
   "cell_type": "code",
   "execution_count": 5,
   "metadata": {},
   "outputs": [],
   "source": [
    "# Example of how to use this function (replace 'synth_log_df' with your actual DataFrame variable name)\n",
    "# Updated timestamps\n",
    "synth_log_df_adjusted = adjust_timestamps(synth_log_df, trace_column='trace_id', timestamp_column='timestamp')\n"
   ]
  },
  {
   "cell_type": "code",
   "execution_count": 6,
   "metadata": {},
   "outputs": [],
   "source": [
    "# Example usage\n",
    "synthetic_log_deviat_test = introduce_synthetic_deviations_W(\n",
    "    log_df=synth_log_df_adjusted,\n",
    "    activities_to_skip=['W-Call-incomplete-files-suspend', 'A-Incomplete', 'W-Assess-potential-fraud-suspend'],\n",
    "    deviation_ratio=0.8,\n",
    "    time_reduction_range=(3600, 9600),\n",
    "    seed=12\n",
    ")"
   ]
  },
  {
   "cell_type": "code",
   "execution_count": 7,
   "metadata": {},
   "outputs": [],
   "source": [
    "petri_net, initial_marking, final_marking = pnml_importer.apply('/home/borna/ProcessMining/Assignments/Process_Mining/conformance_checking/data/BPI2017Denied_petriNet.pnml')"
   ]
  }
 ],
 "metadata": {
  "kernelspec": {
   "display_name": ".venv",
   "language": "python",
   "name": "python3"
  },
  "language_info": {
   "codemirror_mode": {
    "name": "ipython",
    "version": 3
   },
   "file_extension": ".py",
   "mimetype": "text/x-python",
   "name": "python",
   "nbconvert_exporter": "python",
   "pygments_lexer": "ipython3",
   "version": "3.11.5"
  }
 },
 "nbformat": 4,
 "nbformat_minor": 2
}
